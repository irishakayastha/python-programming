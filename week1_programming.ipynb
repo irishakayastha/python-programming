{
 "cells": [
  {
   "cell_type": "markdown",
   "metadata": {},
   "source": [
    "<h3><center>Week 1 Assignment </center></h3>\n",
    "\n",
    "\n",
    "\n",
    "<h4><center>Irisha kayastha</center></h4>\n",
    "<h4><center>Presidential Graduate School</center></h4>\n",
    "<h4><center>PRG 330: Python Programming with Data</center></h4>\n",
    "<h4><center>Prof. Tek Raj Pant </center></h4>\n",
    "<h4><center>October 27, 2024</center></h4>"
   ]
  },
  {
   "cell_type": "code",
   "execution_count": 76,
   "metadata": {},
   "outputs": [
    {
     "name": "stdout",
     "output_type": "stream",
     "text": [
      "hello world\n"
     ]
    }
   ],
   "source": [
    "hello = \"hello world\"\n",
    "print(hello)\n",
    "a = 5\n",
    "b = 10 "
   ]
  },
  {
   "cell_type": "markdown",
   "metadata": {},
   "source": [
    "# Python number"
   ]
  },
  {
   "cell_type": "markdown",
   "metadata": {},
   "source": [
    "In python, A fundamental Data Type used for carrying out numerical operations are numbers."
   ]
  },
  {
   "cell_type": "code",
   "execution_count": 77,
   "metadata": {},
   "outputs": [
    {
     "name": "stdout",
     "output_type": "stream",
     "text": [
      "3.14\n"
     ]
    }
   ],
   "source": [
    "#int \n",
    "age = 30\n",
    "#float\n",
    "pi = 3.14\n",
    "print(pi)\n"
   ]
  },
  {
   "cell_type": "markdown",
   "metadata": {},
   "source": [
    "# Arithmetic operation"
   ]
  },
  {
   "cell_type": "markdown",
   "metadata": {},
   "source": [
    "Python provides Arithmetic operations to perform basic math on numbers and can be easily used for any other calculation. Like in below code it is used to find and print additon, subtraction, product, division and modulos."
   ]
  },
  {
   "cell_type": "code",
   "execution_count": 8,
   "metadata": {},
   "outputs": [
    {
     "name": "stdout",
     "output_type": "stream",
     "text": [
      "3\n",
      "1\n",
      "2\n",
      "2.0\n",
      "0\n"
     ]
    }
   ],
   "source": [
    "a = 2\n",
    "b = 1\n",
    "addition_a = a+b\n",
    "subtraction = a-b\n",
    "product = a*b\n",
    "division= a/b \n",
    "mod= a%b #modulus\n",
    "print(addition_a)\n",
    "print(subtraction)\n",
    "print(product)\n",
    "print(division)\n",
    "print(mod)\n"
   ]
  },
  {
   "cell_type": "markdown",
   "metadata": {},
   "source": [
    "# String in python"
   ]
  },
  {
   "cell_type": "markdown",
   "metadata": {},
   "source": [
    "Strings are used to represent the text. This code uses string indexing and slicing to break down \"Irisha kayastha\" into the first name (\"Irisha\") and last name (\"kayastha\"). It slices off a part of the name and accesses them by index, combining them to display. It get access to specific characters such as the first and the fifth characters as shown."
   ]
  },
  {
   "cell_type": "code",
   "execution_count": 13,
   "metadata": {},
   "outputs": [
    {
     "name": "stdout",
     "output_type": "stream",
     "text": [
      "Irisha kayastha\n",
      "15\n",
      "I\n",
      "h\n",
      "a\n",
      "full name: Irisha kayastha\n"
     ]
    }
   ],
   "source": [
    "name = \"Irisha kayastha\"\n",
    "print(name)\n",
    "total_no_of_chars = len(name)\n",
    "print(total_no_of_chars)\n",
    "first_char =name[0]\n",
    "print(first_char)\n",
    "fifth_char = name[4]\n",
    "print(fifth_char)\n",
    "last_char = name[len(name)-1]\n",
    "print(last_char)\n",
    "first_name = name[0:6] \n",
    "last_name = name[7:]\n",
    "print(\"full name:\", first_name,last_name)\n"
   ]
  },
  {
   "cell_type": "code",
   "execution_count": 22,
   "metadata": {},
   "outputs": [
    {
     "name": "stdout",
     "output_type": "stream",
     "text": [
      "shruti laxmi shrestha\n"
     ]
    }
   ],
   "source": [
    "name = \"shruti laxmi shrestha\"\n",
    "first_name = name[0:6]\n",
    "middle_name = name[7:12]\n",
    "last_name = name[13:]\n",
    "print(first_name, middle_name, last_name)"
   ]
  },
  {
   "cell_type": "markdown",
   "metadata": {},
   "source": [
    "# Boolean"
   ]
  },
  {
   "cell_type": "markdown",
   "metadata": {},
   "source": [
    "Boolean is data type that represnt one of two values like either true or false according to below code. "
   ]
  },
  {
   "cell_type": "code",
   "execution_count": null,
   "metadata": {},
   "outputs": [],
   "source": [
    "passed = true\n",
    "failed = false"
   ]
  },
  {
   "cell_type": "markdown",
   "metadata": {},
   "source": [
    "# Conditional statement"
   ]
  },
  {
   "cell_type": "markdown",
   "metadata": {},
   "source": [
    "Conditional statements help you to execute the code you choose when the condition meets. There are three main conditional statements in python if, elseif and else. Like when code is run and 4 is entered then it print \"I have to wake up at 5AM\", \"I have to go to office\" and \"It's wednesday\" but if you enter 5 it prints test."
   ]
  },
  {
   "cell_type": "code",
   "execution_count": 24,
   "metadata": {},
   "outputs": [
    {
     "name": "stdout",
     "output_type": "stream",
     "text": [
      "I have to wake up at 5AM\n",
      "I have to go to office\n",
      "It's wednesday\n"
     ]
    }
   ],
   "source": [
    "day = int(input('enter a day'))\n",
    "if day == 4:\n",
    "    print(\"I have to wake up at 5AM\")\n",
    "    print(\"I have to go to office\")\n",
    "    print(\"It's wednesday\")\n",
    "if day == 5:\n",
    "    print('test')"
   ]
  },
  {
   "cell_type": "code",
   "execution_count": 26,
   "metadata": {},
   "outputs": [
    {
     "name": "stdout",
     "output_type": "stream",
     "text": [
      "its weekend\n",
      "test\n"
     ]
    }
   ],
   "source": [
    "day = int(input('enter a day'))\n",
    "if day == 4:\n",
    "    print(\"I have to wake up at 5AM\")\n",
    "    print(\"I have to go to office\")\n",
    "    print(\"It's wednesday\")\n",
    "elif day == 5:\n",
    "    print('its week day')\n",
    "else:\n",
    "    print('its weekend')\n",
    "print ('test')"
   ]
  },
  {
   "cell_type": "code",
   "execution_count": 16,
   "metadata": {},
   "outputs": [
    {
     "name": "stdout",
     "output_type": "stream",
     "text": [
      "it is even number\n"
     ]
    }
   ],
   "source": [
    "number = int(input (\"enter number\"))\n",
    "if number % 2 ==0:\n",
    "    print (\"it is even number\")\n",
    "else:\n",
    "    print (\"it is odd\")"
   ]
  },
  {
   "cell_type": "code",
   "execution_count": 30,
   "metadata": {},
   "outputs": [
    {
     "name": "stdout",
     "output_type": "stream",
     "text": [
      "Python class\n"
     ]
    }
   ],
   "source": [
    "time = int(input(\"Enter time\"))\n",
    "if time >= 10 and time <12:\n",
    "    print(\"Python class\")\n",
    "elif time >= 12 and time < 14:\n",
    "    print(\"DSA class\")\n",
    "elif time >= 14 and time < 16:\n",
    "    print(\"English class\")\n",
    "\n",
    "    "
   ]
  },
  {
   "cell_type": "code",
   "execution_count": 27,
   "metadata": {},
   "outputs": [
    {
     "name": "stdout",
     "output_type": "stream",
     "text": [
      "The ticket price is 50\n"
     ]
    }
   ],
   "source": [
    "city = input(\"Enter country name\")\n",
    "if city.lower() == \"nepal\" or city.lower() == \"india\":\n",
    "    print(\"The ticket price is 50\")\n",
    "else:\n",
    "    print(\"Ticket price is 100\") "
   ]
  },
  {
   "cell_type": "markdown",
   "metadata": {},
   "source": [
    "# While loop"
   ]
  },
  {
   "cell_type": "markdown",
   "metadata": {},
   "source": [
    "While loop is used to execute a program until specified condition is true. Like when value of counter is 10 evertime \"hello world\" is printed until it beacme less than 0 while being subtracted from -1."
   ]
  },
  {
   "cell_type": "code",
   "execution_count": 31,
   "metadata": {},
   "outputs": [
    {
     "name": "stdout",
     "output_type": "stream",
     "text": [
      "Hello World\n",
      "Hello World\n",
      "Hello World\n",
      "Hello World\n",
      "Hello World\n",
      "Hello World\n",
      "Hello World\n",
      "Hello World\n",
      "Hello World\n",
      "Hello World\n"
     ]
    }
   ],
   "source": [
    "counter = 10\n",
    "while counter > 0:\n",
    "    print(\"Hello World\")\n",
    "    counter -=1"
   ]
  },
  {
   "cell_type": "markdown",
   "metadata": {},
   "source": [
    "# Sum of first natural number"
   ]
  },
  {
   "cell_type": "markdown",
   "metadata": {},
   "source": [
    "Sum of first natural number is printed below where value is 5050."
   ]
  },
  {
   "cell_type": "code",
   "execution_count": 33,
   "metadata": {},
   "outputs": [
    {
     "name": "stdout",
     "output_type": "stream",
     "text": [
      "5050\n"
     ]
    }
   ],
   "source": [
    "n = 100 \n",
    "sum = 0\n",
    "for i in range(1, n + 1):\n",
    "    sum += i\n",
    "print(sum) "
   ]
  },
  {
   "cell_type": "markdown",
   "metadata": {},
   "source": [
    "# Sum of first natural even number"
   ]
  },
  {
   "cell_type": "markdown",
   "metadata": {},
   "source": [
    "Sum of first natural even number is only printed below by applying code. The output is 2550."
   ]
  },
  {
   "cell_type": "code",
   "execution_count": 32,
   "metadata": {},
   "outputs": [
    {
     "name": "stdout",
     "output_type": "stream",
     "text": [
      "2550\n"
     ]
    }
   ],
   "source": [
    "n = 100\n",
    "counter = 1\n",
    "sum = 0 \n",
    "while counter <= n:\n",
    "    if counter % 2 == 0: \n",
    "        sum += counter\n",
    "    counter += 1\n",
    "print(sum)"
   ]
  },
  {
   "cell_type": "markdown",
   "metadata": {},
   "source": [
    "# Reverse the string"
   ]
  },
  {
   "cell_type": "markdown",
   "metadata": {},
   "source": [
    "Reversing the string simply rearrange its character in thw opposite order like in code below reverse of\"Kathmandu Nepal\" which is lapeN udnamhtaK is printed."
   ]
  },
  {
   "cell_type": "code",
   "execution_count": 34,
   "metadata": {},
   "outputs": [
    {
     "name": "stdout",
     "output_type": "stream",
     "text": [
      "lapeN udnamhtaK\n"
     ]
    }
   ],
   "source": [
    "address = \"Kathmandu Nepal\"\n",
    "reverse_str = \"\"\n",
    "index = len(address) - 1\n",
    "\n",
    "while index >= 0: \n",
    "    reverse_str += address[index]\n",
    "    index -= 1\n",
    "\n",
    "print(reverse_str)"
   ]
  },
  {
   "cell_type": "markdown",
   "metadata": {},
   "source": [
    "# List"
   ]
  },
  {
   "cell_type": "markdown",
   "metadata": {},
   "source": [
    "List is used to store an ordered collection of items. Below the list numbers contains integers and the list students contains names. The code shows loading the list items, amount of total items based on len() and accessing the last item by using total amount of items. "
   ]
  },
  {
   "cell_type": "code",
   "execution_count": 2,
   "metadata": {},
   "outputs": [
    {
     "name": "stdout",
     "output_type": "stream",
     "text": [
      "1\n",
      "7\n",
      "5\n"
     ]
    }
   ],
   "source": [
    "\n",
    "numbers = [1,2,3,4,5,5,5]\n",
    "students = ['Ram','hari']\n",
    "#access elements from list\n",
    "first_number =numbers[0]\n",
    "print(first_number)\n",
    "#count total number of items\n",
    "total_item = len(numbers)\n",
    "print(total_item)\n",
    "#last element\n",
    "last_element = numbers[total_item-1]\n",
    "print(last_element)"
   ]
  },
  {
   "cell_type": "code",
   "execution_count": 8,
   "metadata": {},
   "outputs": [
    {
     "name": "stdout",
     "output_type": "stream",
     "text": [
      "[1, 4, 3, 5, 6, 7, 1, 1]\n",
      "[1, 4, 3, 5, 6, 7, 1, 1, 8]\n",
      "[1, 4, 3, 5, 6, 7, 1, 1]\n",
      "[1, 4, 3, 6, 7, 1, 1]\n",
      "3\n",
      "[1, 2, 3, 4]\n",
      "[]\n"
     ]
    }
   ],
   "source": [
    "numbers = [1,4,3,5,6,7,1,1]\n",
    "print(numbers)\n",
    "#append item\n",
    "numbers.append(8)\n",
    "print(numbers)\n",
    "#remove last item\n",
    "numbers.pop()\n",
    "print(numbers)\n",
    "#remove\n",
    "numbers.remove(5)\n",
    "print(numbers)\n",
    "#insert\n",
    "numbers.insert(2,10)\n",
    "#count\n",
    "print(numbers.count(1))\n",
    "\n",
    "numbers_1 = [1,2]\n",
    "numbers_2 = [3,4]\n",
    "numbers_1.extend(numbers_2) #print(numbers_1+numbers_2)\n",
    "print(numbers_1)\n",
    "#clear\n",
    "numbers_1.clear()\n",
    "print(numbers_1)"
   ]
  },
  {
   "cell_type": "code",
   "execution_count": 12,
   "metadata": {},
   "outputs": [
    {
     "name": "stdout",
     "output_type": "stream",
     "text": [
      "5 6\n",
      "['ram', 'hari']\n",
      "ram exist in a\n"
     ]
    }
   ],
   "source": [
    "a=5\n",
    "b=a+1\n",
    "print(a,b)\n",
    "\n",
    "a=['ram','hari']\n",
    "b=a.copy()\n",
    "a.append ('gopal')\n",
    "print(b)\n",
    "#check value exist in list\n",
    "if 'ram' in a:\n",
    "    print('ram exist in a')"
   ]
  },
  {
   "cell_type": "code",
   "execution_count": 13,
   "metadata": {},
   "outputs": [
    {
     "name": "stdout",
     "output_type": "stream",
     "text": [
      "5 6\n",
      "['ram', 'hari']\n"
     ]
    }
   ],
   "source": [
    "a=5\n",
    "b=a\n",
    "b=a+1 #copy by value\n",
    "print(a,b)\n",
    "\n",
    "a=['ram','hari']\n",
    "b=a #deep copy (copy by reference)\n",
    "b=a.copy()\n",
    "a.append ('gopal')\n",
    "print(b)\n",
    "#check value exist in list\n",
    "if 'rama' in a:\n",
    "    print('rama does not exist in a')"
   ]
  },
  {
   "cell_type": "markdown",
   "metadata": {},
   "source": [
    "# Find the sum of all item in given list"
   ]
  },
  {
   "cell_type": "markdown",
   "metadata": {},
   "source": [
    "While loop is used below to go through every item in the list and add it into varibale name \"sum\" to find out sum of all item in given list."
   ]
  },
  {
   "cell_type": "code",
   "execution_count": 16,
   "metadata": {},
   "outputs": [
    {
     "name": "stdout",
     "output_type": "stream",
     "text": [
      "1\n",
      "4\n",
      "10\n",
      "3\n",
      "6\n",
      "7\n",
      "1\n",
      "1\n",
      "33\n"
     ]
    }
   ],
   "source": [
    "\n",
    "numebrs = [1,2,3,4,5,6,6]\n",
    "total_items = len(numbers)\n",
    "index=0\n",
    "sum=0\n",
    "while index<total_items:\n",
    "    element = numbers[index]\n",
    "    sum += element\n",
    "    print(element)\n",
    "    index+=1\n",
    "print(sum)\n"
   ]
  },
  {
   "cell_type": "markdown",
   "metadata": {},
   "source": [
    "# Find maximum value"
   ]
  },
  {
   "cell_type": "code",
   "execution_count": 41,
   "metadata": {},
   "outputs": [
    {
     "name": "stdout",
     "output_type": "stream",
     "text": [
      "max value is 6\n"
     ]
    }
   ],
   "source": [
    "numbers = [1, 2, 3, 4, 5, 6, 6]\n",
    "total_items = len(numbers)\n",
    "index = 0\n",
    "max_value = numbers[0]\n",
    "\n",
    "while index < total_items:\n",
    "    if numbers[index] > max_value:  \n",
    "        max_value = numbers[index]\n",
    "    index += 1\n",
    "\n",
    "print(\"max value is\", max_value)"
   ]
  },
  {
   "cell_type": "markdown",
   "metadata": {},
   "source": [
    "# Filter value"
   ]
  },
  {
   "cell_type": "markdown",
   "metadata": {},
   "source": [
    "Filtering values in Python is to select some data from a list based on specific criteria. Here, we make a students list of the names Ram, Hari, and Gopal. So using list, we remove any student whose name is 'Ram'. 'Hari' and 'Gopal' is only printed. "
   ]
  },
  {
   "cell_type": "code",
   "execution_count": 35,
   "metadata": {},
   "outputs": [
    {
     "name": "stdout",
     "output_type": "stream",
     "text": [
      "['Hari', 'Gopal']\n"
     ]
    }
   ],
   "source": [
    "students = ['Ram', 'Hari', 'Gopal']\n",
    "filtered_students = [student for student in students if student != 'Ram']\n",
    "print(filtered_students)"
   ]
  },
  {
   "cell_type": "markdown",
   "metadata": {},
   "source": [
    "# Creating a list of even number from the given list"
   ]
  },
  {
   "cell_type": "markdown",
   "metadata": {},
   "source": [
    "From the list of given numbers only even is printed."
   ]
  },
  {
   "cell_type": "code",
   "execution_count": 36,
   "metadata": {},
   "outputs": [
    {
     "name": "stdout",
     "output_type": "stream",
     "text": [
      "[2, 4, 6, 8, 12, 14]\n"
     ]
    }
   ],
   "source": [
    "numbers = [1, 2, 3, 4, 6, 7, 8, 12, 11, 13, 14]\n",
    "even_numbers = [number for number in numbers if number % 2 == 0]\n",
    "print (even_numbers)"
   ]
  }
 ],
 "metadata": {
  "kernelspec": {
   "display_name": "Python 3",
   "language": "python",
   "name": "python3"
  },
  "language_info": {
   "codemirror_mode": {
    "name": "ipython",
    "version": 3
   },
   "file_extension": ".py",
   "mimetype": "text/x-python",
   "name": "python",
   "nbconvert_exporter": "python",
   "pygments_lexer": "ipython3",
   "version": "3.13.0"
  }
 },
 "nbformat": 4,
 "nbformat_minor": 2
}
